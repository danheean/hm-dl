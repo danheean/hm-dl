{
 "cells": [
  {
   "cell_type": "code",
   "execution_count": 2,
   "metadata": {},
   "outputs": [
    {
     "name": "stdout",
     "output_type": "stream",
     "text": [
      "=== TensorFlow & Keras 설치 확인 ===\n",
      "TensorFlow 버전: 2.17.1\n",
      "Keras 버전: 3.5.0\n",
      "GPU 사용 가능: []\n",
      "Built with CUDA: False\n",
      "\n",
      "=== 기본 연산 테스트 ===\n",
      "[1,2,3] + [4,5,6] = [5 7 9]\n",
      "\n",
      "=== 모델 생성 테스트 ===\n",
      "✅ 모델 생성 및 컴파일 성공\n",
      "✅ 예측 테스트 성공: 0.2761\n",
      "✅ TensorFlow 버전: 2.17.1\n",
      "✅ Keras 버전: 3.5.0\n",
      "✅ GPU 사용 가능: False\n"
     ]
    }
   ],
   "source": [
    "import tensorflow as tf\n",
    "import numpy as np\n",
    "\n",
    "print(\"=== TensorFlow & Keras 설치 확인 ===\")\n",
    "\n",
    "# 1. 버전 확인\n",
    "print(f\"TensorFlow 버전: {tf.__version__}\")\n",
    "print(f\"Keras 버전: {tf.keras.__version__}\")\n",
    "\n",
    "# 2. GPU 사용 가능 여부\n",
    "print(f\"GPU 사용 가능: {tf.config.list_physical_devices('GPU')}\")\n",
    "print(f\"Built with CUDA: {tf.test.is_built_with_cuda()}\")\n",
    "\n",
    "# 3. 간단한 연산 테스트\n",
    "print(\"\\n=== 기본 연산 테스트 ===\")\n",
    "a = tf.constant([1, 2, 3])\n",
    "b = tf.constant([4, 5, 6])\n",
    "result = tf.add(a, b)\n",
    "print(f\"[1,2,3] + [4,5,6] = {result.numpy()}\")\n",
    "\n",
    "# 4. 간단한 모델 생성 및 컴파일 테스트\n",
    "print(\"\\n=== 모델 생성 테스트 ===\")\n",
    "try:\n",
    "    model = tf.keras.Sequential([\n",
    "        tf.keras.layers.Dense(10, activation='relu', input_shape=(5,)),\n",
    "        tf.keras.layers.Dense(1)\n",
    "    ])\n",
    "    model.compile(optimizer='adam', loss='mse')\n",
    "    print(\"✅ 모델 생성 및 컴파일 성공\")\n",
    "    \n",
    "    # 더미 데이터로 예측 테스트\n",
    "    dummy_input = np.random.random((1, 5))\n",
    "    prediction = model.predict(dummy_input, verbose=0)\n",
    "    print(f\"✅ 예측 테스트 성공: {prediction[0][0]:.4f}\")\n",
    "    \n",
    "except Exception as e:\n",
    "    print(f\"❌ 모델 테스트 실패: {e}\")\n",
    "\n",
    "# 추가 검증\n",
    "if tf.__version__:\n",
    "    print(f\"✅ TensorFlow 버전: {tf.__version__}\")\n",
    "    print(f\"✅ Keras 버전: {tf.keras.__version__}\")\n",
    "    print(f\"✅ GPU 사용 가능: {len(tf.config.list_physical_devices('GPU')) > 0}\")\n",
    "else:\n",
    "    print(\"❌ TensorFlow가 제대로 설치되지 않았습니다.\")\n"
   ]
  }
 ],
 "metadata": {
  "kernelspec": {
   "display_name": ".venv",
   "language": "python",
   "name": "python3"
  },
  "language_info": {
   "codemirror_mode": {
    "name": "ipython",
    "version": 3
   },
   "file_extension": ".py",
   "mimetype": "text/x-python",
   "name": "python",
   "nbconvert_exporter": "python",
   "pygments_lexer": "ipython3",
   "version": "3.10.16"
  }
 },
 "nbformat": 4,
 "nbformat_minor": 2
}
