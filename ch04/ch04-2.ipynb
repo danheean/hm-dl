{
 "cells": [
  {
   "cell_type": "code",
   "execution_count": 1,
   "id": "4c98bd36",
   "metadata": {},
   "outputs": [],
   "source": [
    "#!gdown 15ZSv_07b3HCKKn08jSDLl4JO4EFy8t-t\n",
    "\n",
    "#!tar -xzf aclImdb_v1.tar.gz\n",
    "#!rm -r aclImdb/train/unsup"
   ]
  },
  {
   "cell_type": "code",
   "execution_count": 2,
   "id": "fda519a0",
   "metadata": {},
   "outputs": [
    {
     "data": {
      "text/plain": [
       "True"
      ]
     },
     "execution_count": 2,
     "metadata": {},
     "output_type": "execute_result"
    }
   ],
   "source": [
    "from dotenv import load_dotenv\n",
    "load_dotenv('../.env')\n"
   ]
  },
  {
   "cell_type": "code",
   "execution_count": 3,
   "id": "5b4779be",
   "metadata": {},
   "outputs": [
    {
     "name": "stdout",
     "output_type": "stream",
     "text": [
      "Found 25000 files belonging to 2 classes.\n",
      "Using 20000 files for training.\n",
      "Using 5000 files for validation.\n"
     ]
    },
    {
     "name": "stderr",
     "output_type": "stream",
     "text": [
      "2025-08-12 07:51:28.729052: I metal_plugin/src/device/metal_device.cc:1154] Metal device set to: Apple M4 Max\n",
      "2025-08-12 07:51:28.729229: I metal_plugin/src/device/metal_device.cc:296] systemMemory: 64.00 GB\n",
      "2025-08-12 07:51:28.729240: I metal_plugin/src/device/metal_device.cc:313] maxCacheSize: 24.00 GB\n",
      "2025-08-12 07:51:28.729256: I tensorflow/core/common_runtime/pluggable_device/pluggable_device_factory.cc:305] Could not identify NUMA node of platform GPU ID 0, defaulting to 0. Your kernel may not have been built with NUMA support.\n",
      "2025-08-12 07:51:28.729267: I tensorflow/core/common_runtime/pluggable_device/pluggable_device_factory.cc:271] Created TensorFlow device (/job:localhost/replica:0/task:0/device:GPU:0 with 0 MB memory) -> physical PluggableDevice (device: 0, name: METAL, pci bus id: <undefined>)\n"
     ]
    },
    {
     "name": "stdout",
     "output_type": "stream",
     "text": [
      "Found 25000 files belonging to 2 classes.\n"
     ]
    }
   ],
   "source": [
    "\n",
    "import keras\n",
    "\n",
    "train_ds, val_ds = keras.utils.text_dataset_from_directory(\n",
    "    '../data/aclImdb/train', validation_split=0.2, subset='both', seed=42\n",
    ")\n",
    "test_ds = keras.utils.text_dataset_from_directory('../data/aclImdb/test')"
   ]
  },
  {
   "cell_type": "code",
   "execution_count": 4,
   "id": "a7252ddb",
   "metadata": {},
   "outputs": [
    {
     "name": "stdout",
     "output_type": "stream",
     "text": [
      "b'\"Pandemonium\" is a horror movie spoof that comes off more stupid than funny. Believe me when I tell '\n",
      "0\n"
     ]
    }
   ],
   "source": [
    "feature, target = train_ds.unbatch().take(1).get_single_element()\n",
    "print(feature.numpy()[:100])\n",
    "print(target.numpy())"
   ]
  },
  {
   "cell_type": "code",
   "execution_count": 5,
   "id": "83226b04",
   "metadata": {},
   "outputs": [
    {
     "data": {
      "text/html": [
       "<pre style=\"white-space:pre;overflow-x:auto;line-height:normal;font-family:Menlo,'DejaVu Sans Mono',consolas,'Courier New',monospace\"><span style=\"font-weight: bold\">Preprocessor: \"bert_text_classifier_preprocessor\"</span>\n",
       "</pre>\n"
      ],
      "text/plain": [
       "\u001b[1mPreprocessor: \"bert_text_classifier_preprocessor\"\u001b[0m\n"
      ]
     },
     "metadata": {},
     "output_type": "display_data"
    },
    {
     "data": {
      "text/html": [
       "<pre style=\"white-space:pre;overflow-x:auto;line-height:normal;font-family:Menlo,'DejaVu Sans Mono',consolas,'Courier New',monospace\">┏━━━━━━━━━━━━━━━━━━━━━━━━━━━━━━━━━━━━━━━━━━━━━━━━━━━━━━━━━━━━━━━┳━━━━━━━━━━━━━━━━━━━━━━━━━━━━━━━━━━━━━━━━━━┓\n",
       "┃<span style=\"font-weight: bold\"> Layer (type)                                                  </span>┃<span style=\"font-weight: bold\">                                   Config </span>┃\n",
       "┡━━━━━━━━━━━━━━━━━━━━━━━━━━━━━━━━━━━━━━━━━━━━━━━━━━━━━━━━━━━━━━━╇━━━━━━━━━━━━━━━━━━━━━━━━━━━━━━━━━━━━━━━━━━┩\n",
       "│ bert_tokenizer (<span style=\"color: #0087ff; text-decoration-color: #0087ff\">BertTokenizer</span>)                                │                       Vocab size: <span style=\"color: #00af00; text-decoration-color: #00af00\">30,522</span> │\n",
       "└───────────────────────────────────────────────────────────────┴──────────────────────────────────────────┘\n",
       "</pre>\n"
      ],
      "text/plain": [
       "┏━━━━━━━━━━━━━━━━━━━━━━━━━━━━━━━━━━━━━━━━━━━━━━━━━━━━━━━━━━━━━━━┳━━━━━━━━━━━━━━━━━━━━━━━━━━━━━━━━━━━━━━━━━━┓\n",
       "┃\u001b[1m \u001b[0m\u001b[1mLayer (type)                                                 \u001b[0m\u001b[1m \u001b[0m┃\u001b[1m \u001b[0m\u001b[1m                                  Config\u001b[0m\u001b[1m \u001b[0m┃\n",
       "┡━━━━━━━━━━━━━━━━━━━━━━━━━━━━━━━━━━━━━━━━━━━━━━━━━━━━━━━━━━━━━━━╇━━━━━━━━━━━━━━━━━━━━━━━━━━━━━━━━━━━━━━━━━━┩\n",
       "│ bert_tokenizer (\u001b[38;5;33mBertTokenizer\u001b[0m)                                │                       Vocab size: \u001b[38;5;34m30,522\u001b[0m │\n",
       "└───────────────────────────────────────────────────────────────┴──────────────────────────────────────────┘\n"
      ]
     },
     "metadata": {},
     "output_type": "display_data"
    },
    {
     "data": {
      "text/html": [
       "<pre style=\"white-space:pre;overflow-x:auto;line-height:normal;font-family:Menlo,'DejaVu Sans Mono',consolas,'Courier New',monospace\"><span style=\"font-weight: bold\">Model: \"bert_text_classifier\"</span>\n",
       "</pre>\n"
      ],
      "text/plain": [
       "\u001b[1mModel: \"bert_text_classifier\"\u001b[0m\n"
      ]
     },
     "metadata": {},
     "output_type": "display_data"
    },
    {
     "data": {
      "text/html": [
       "<pre style=\"white-space:pre;overflow-x:auto;line-height:normal;font-family:Menlo,'DejaVu Sans Mono',consolas,'Courier New',monospace\">┏━━━━━━━━━━━━━━━━━━━━━━━━━━━━━━━┳━━━━━━━━━━━━━━━━━━━━━━━━━━━┳━━━━━━━━━━━━━━━━━┳━━━━━━━━━━━━━━━━━━━━━━━━━━━━┓\n",
       "┃<span style=\"font-weight: bold\"> Layer (type)                  </span>┃<span style=\"font-weight: bold\"> Output Shape              </span>┃<span style=\"font-weight: bold\">         Param # </span>┃<span style=\"font-weight: bold\"> Connected to               </span>┃\n",
       "┡━━━━━━━━━━━━━━━━━━━━━━━━━━━━━━━╇━━━━━━━━━━━━━━━━━━━━━━━━━━━╇━━━━━━━━━━━━━━━━━╇━━━━━━━━━━━━━━━━━━━━━━━━━━━━┩\n",
       "│ padding_mask (<span style=\"color: #0087ff; text-decoration-color: #0087ff\">InputLayer</span>)     │ (<span style=\"color: #00d7ff; text-decoration-color: #00d7ff\">None</span>, <span style=\"color: #00d7ff; text-decoration-color: #00d7ff\">None</span>)              │               <span style=\"color: #00af00; text-decoration-color: #00af00\">0</span> │ -                          │\n",
       "├───────────────────────────────┼───────────────────────────┼─────────────────┼────────────────────────────┤\n",
       "│ segment_ids (<span style=\"color: #0087ff; text-decoration-color: #0087ff\">InputLayer</span>)      │ (<span style=\"color: #00d7ff; text-decoration-color: #00d7ff\">None</span>, <span style=\"color: #00d7ff; text-decoration-color: #00d7ff\">None</span>)              │               <span style=\"color: #00af00; text-decoration-color: #00af00\">0</span> │ -                          │\n",
       "├───────────────────────────────┼───────────────────────────┼─────────────────┼────────────────────────────┤\n",
       "│ token_ids (<span style=\"color: #0087ff; text-decoration-color: #0087ff\">InputLayer</span>)        │ (<span style=\"color: #00d7ff; text-decoration-color: #00d7ff\">None</span>, <span style=\"color: #00d7ff; text-decoration-color: #00d7ff\">None</span>)              │               <span style=\"color: #00af00; text-decoration-color: #00af00\">0</span> │ -                          │\n",
       "├───────────────────────────────┼───────────────────────────┼─────────────────┼────────────────────────────┤\n",
       "│ bert_backbone (<span style=\"color: #0087ff; text-decoration-color: #0087ff\">BertBackbone</span>)  │ [(<span style=\"color: #00d7ff; text-decoration-color: #00d7ff\">None</span>, <span style=\"color: #00af00; text-decoration-color: #00af00\">128</span>), (<span style=\"color: #00d7ff; text-decoration-color: #00d7ff\">None</span>,      │       <span style=\"color: #00af00; text-decoration-color: #00af00\">4,385,920</span> │ padding_mask[<span style=\"color: #00af00; text-decoration-color: #00af00\">0</span>][<span style=\"color: #00af00; text-decoration-color: #00af00\">0</span>],        │\n",
       "│                               │ <span style=\"color: #00d7ff; text-decoration-color: #00d7ff\">None</span>, <span style=\"color: #00af00; text-decoration-color: #00af00\">128</span>)]               │                 │ segment_ids[<span style=\"color: #00af00; text-decoration-color: #00af00\">0</span>][<span style=\"color: #00af00; text-decoration-color: #00af00\">0</span>],         │\n",
       "│                               │                           │                 │ token_ids[<span style=\"color: #00af00; text-decoration-color: #00af00\">0</span>][<span style=\"color: #00af00; text-decoration-color: #00af00\">0</span>]            │\n",
       "├───────────────────────────────┼───────────────────────────┼─────────────────┼────────────────────────────┤\n",
       "│ classifier_dropout (<span style=\"color: #0087ff; text-decoration-color: #0087ff\">Dropout</span>)  │ (<span style=\"color: #00d7ff; text-decoration-color: #00d7ff\">None</span>, <span style=\"color: #00af00; text-decoration-color: #00af00\">128</span>)               │               <span style=\"color: #00af00; text-decoration-color: #00af00\">0</span> │ bert_backbone[<span style=\"color: #00af00; text-decoration-color: #00af00\">0</span>][<span style=\"color: #00af00; text-decoration-color: #00af00\">0</span>]        │\n",
       "├───────────────────────────────┼───────────────────────────┼─────────────────┼────────────────────────────┤\n",
       "│ logits (<span style=\"color: #0087ff; text-decoration-color: #0087ff\">Dense</span>)                │ (<span style=\"color: #00d7ff; text-decoration-color: #00d7ff\">None</span>, <span style=\"color: #00af00; text-decoration-color: #00af00\">2</span>)                 │             <span style=\"color: #00af00; text-decoration-color: #00af00\">258</span> │ classifier_dropout[<span style=\"color: #00af00; text-decoration-color: #00af00\">0</span>][<span style=\"color: #00af00; text-decoration-color: #00af00\">0</span>]   │\n",
       "└───────────────────────────────┴───────────────────────────┴─────────────────┴────────────────────────────┘\n",
       "</pre>\n"
      ],
      "text/plain": [
       "┏━━━━━━━━━━━━━━━━━━━━━━━━━━━━━━━┳━━━━━━━━━━━━━━━━━━━━━━━━━━━┳━━━━━━━━━━━━━━━━━┳━━━━━━━━━━━━━━━━━━━━━━━━━━━━┓\n",
       "┃\u001b[1m \u001b[0m\u001b[1mLayer (type)                 \u001b[0m\u001b[1m \u001b[0m┃\u001b[1m \u001b[0m\u001b[1mOutput Shape             \u001b[0m\u001b[1m \u001b[0m┃\u001b[1m \u001b[0m\u001b[1m        Param #\u001b[0m\u001b[1m \u001b[0m┃\u001b[1m \u001b[0m\u001b[1mConnected to              \u001b[0m\u001b[1m \u001b[0m┃\n",
       "┡━━━━━━━━━━━━━━━━━━━━━━━━━━━━━━━╇━━━━━━━━━━━━━━━━━━━━━━━━━━━╇━━━━━━━━━━━━━━━━━╇━━━━━━━━━━━━━━━━━━━━━━━━━━━━┩\n",
       "│ padding_mask (\u001b[38;5;33mInputLayer\u001b[0m)     │ (\u001b[38;5;45mNone\u001b[0m, \u001b[38;5;45mNone\u001b[0m)              │               \u001b[38;5;34m0\u001b[0m │ -                          │\n",
       "├───────────────────────────────┼───────────────────────────┼─────────────────┼────────────────────────────┤\n",
       "│ segment_ids (\u001b[38;5;33mInputLayer\u001b[0m)      │ (\u001b[38;5;45mNone\u001b[0m, \u001b[38;5;45mNone\u001b[0m)              │               \u001b[38;5;34m0\u001b[0m │ -                          │\n",
       "├───────────────────────────────┼───────────────────────────┼─────────────────┼────────────────────────────┤\n",
       "│ token_ids (\u001b[38;5;33mInputLayer\u001b[0m)        │ (\u001b[38;5;45mNone\u001b[0m, \u001b[38;5;45mNone\u001b[0m)              │               \u001b[38;5;34m0\u001b[0m │ -                          │\n",
       "├───────────────────────────────┼───────────────────────────┼─────────────────┼────────────────────────────┤\n",
       "│ bert_backbone (\u001b[38;5;33mBertBackbone\u001b[0m)  │ [(\u001b[38;5;45mNone\u001b[0m, \u001b[38;5;34m128\u001b[0m), (\u001b[38;5;45mNone\u001b[0m,      │       \u001b[38;5;34m4,385,920\u001b[0m │ padding_mask[\u001b[38;5;34m0\u001b[0m][\u001b[38;5;34m0\u001b[0m],        │\n",
       "│                               │ \u001b[38;5;45mNone\u001b[0m, \u001b[38;5;34m128\u001b[0m)]               │                 │ segment_ids[\u001b[38;5;34m0\u001b[0m][\u001b[38;5;34m0\u001b[0m],         │\n",
       "│                               │                           │                 │ token_ids[\u001b[38;5;34m0\u001b[0m][\u001b[38;5;34m0\u001b[0m]            │\n",
       "├───────────────────────────────┼───────────────────────────┼─────────────────┼────────────────────────────┤\n",
       "│ classifier_dropout (\u001b[38;5;33mDropout\u001b[0m)  │ (\u001b[38;5;45mNone\u001b[0m, \u001b[38;5;34m128\u001b[0m)               │               \u001b[38;5;34m0\u001b[0m │ bert_backbone[\u001b[38;5;34m0\u001b[0m][\u001b[38;5;34m0\u001b[0m]        │\n",
       "├───────────────────────────────┼───────────────────────────┼─────────────────┼────────────────────────────┤\n",
       "│ logits (\u001b[38;5;33mDense\u001b[0m)                │ (\u001b[38;5;45mNone\u001b[0m, \u001b[38;5;34m2\u001b[0m)                 │             \u001b[38;5;34m258\u001b[0m │ classifier_dropout[\u001b[38;5;34m0\u001b[0m][\u001b[38;5;34m0\u001b[0m]   │\n",
       "└───────────────────────────────┴───────────────────────────┴─────────────────┴────────────────────────────┘\n"
      ]
     },
     "metadata": {},
     "output_type": "display_data"
    },
    {
     "data": {
      "text/html": [
       "<pre style=\"white-space:pre;overflow-x:auto;line-height:normal;font-family:Menlo,'DejaVu Sans Mono',consolas,'Courier New',monospace\"><span style=\"font-weight: bold\"> Total params: </span><span style=\"color: #00af00; text-decoration-color: #00af00\">4,386,178</span> (16.73 MB)\n",
       "</pre>\n"
      ],
      "text/plain": [
       "\u001b[1m Total params: \u001b[0m\u001b[38;5;34m4,386,178\u001b[0m (16.73 MB)\n"
      ]
     },
     "metadata": {},
     "output_type": "display_data"
    },
    {
     "data": {
      "text/html": [
       "<pre style=\"white-space:pre;overflow-x:auto;line-height:normal;font-family:Menlo,'DejaVu Sans Mono',consolas,'Courier New',monospace\"><span style=\"font-weight: bold\"> Trainable params: </span><span style=\"color: #00af00; text-decoration-color: #00af00\">4,386,178</span> (16.73 MB)\n",
       "</pre>\n"
      ],
      "text/plain": [
       "\u001b[1m Trainable params: \u001b[0m\u001b[38;5;34m4,386,178\u001b[0m (16.73 MB)\n"
      ]
     },
     "metadata": {},
     "output_type": "display_data"
    },
    {
     "data": {
      "text/html": [
       "<pre style=\"white-space:pre;overflow-x:auto;line-height:normal;font-family:Menlo,'DejaVu Sans Mono',consolas,'Courier New',monospace\"><span style=\"font-weight: bold\"> Non-trainable params: </span><span style=\"color: #00af00; text-decoration-color: #00af00\">0</span> (0.00 B)\n",
       "</pre>\n"
      ],
      "text/plain": [
       "\u001b[1m Non-trainable params: \u001b[0m\u001b[38;5;34m0\u001b[0m (0.00 B)\n"
      ]
     },
     "metadata": {},
     "output_type": "display_data"
    }
   ],
   "source": [
    "import keras_nlp\n",
    "\n",
    "classifier = keras_nlp.models.BertClassifier.from_preset(\n",
    "    'bert_tiny_en_uncased',\n",
    "    # 'bert_base_en_uncased',\n",
    "    num_classes=2,\n",
    ")\n",
    "\n",
    "classifier.summary()"
   ]
  },
  {
   "cell_type": "code",
   "execution_count": 6,
   "id": "0d286e55",
   "metadata": {},
   "outputs": [],
   "source": [
    "early_stopping_cb = keras.callbacks.EarlyStopping(\n",
    "    patience=3,\n",
    "    restore_best_weights=True,\n",
    ")"
   ]
  },
  {
   "cell_type": "code",
   "execution_count": 7,
   "id": "aac3d5d3",
   "metadata": {},
   "outputs": [
    {
     "name": "stdout",
     "output_type": "stream",
     "text": [
      "Epoch 1/100\n"
     ]
    },
    {
     "name": "stderr",
     "output_type": "stream",
     "text": [
      "2025-08-12 07:51:32.196064: I tensorflow/core/grappler/optimizers/custom_graph_optimizer_registry.cc:117] Plugin optimizer for device_type GPU is enabled.\n"
     ]
    },
    {
     "name": "stdout",
     "output_type": "stream",
     "text": [
      "\u001b[1m625/625\u001b[0m \u001b[32m━━━━━━━━━━━━━━━━━━━━\u001b[0m\u001b[37m\u001b[0m \u001b[1m35s\u001b[0m 50ms/step - loss: 0.5684 - sparse_categorical_accuracy: 0.6962 - val_loss: 0.3589 - val_sparse_categorical_accuracy: 0.8482\n",
      "Epoch 2/100\n",
      "\u001b[1m625/625\u001b[0m \u001b[32m━━━━━━━━━━━━━━━━━━━━\u001b[0m\u001b[37m\u001b[0m \u001b[1m31s\u001b[0m 50ms/step - loss: 0.3194 - sparse_categorical_accuracy: 0.8675 - val_loss: 0.2990 - val_sparse_categorical_accuracy: 0.8764\n",
      "Epoch 3/100\n",
      "\u001b[1m625/625\u001b[0m \u001b[32m━━━━━━━━━━━━━━━━━━━━\u001b[0m\u001b[37m\u001b[0m \u001b[1m32s\u001b[0m 51ms/step - loss: 0.2494 - sparse_categorical_accuracy: 0.9048 - val_loss: 0.2907 - val_sparse_categorical_accuracy: 0.8812\n",
      "Epoch 4/100\n",
      "\u001b[1m625/625\u001b[0m \u001b[32m━━━━━━━━━━━━━━━━━━━━\u001b[0m\u001b[37m\u001b[0m \u001b[1m33s\u001b[0m 52ms/step - loss: 0.1975 - sparse_categorical_accuracy: 0.9276 - val_loss: 0.3267 - val_sparse_categorical_accuracy: 0.8786\n",
      "Epoch 5/100\n",
      "\u001b[1m625/625\u001b[0m \u001b[32m━━━━━━━━━━━━━━━━━━━━\u001b[0m\u001b[37m\u001b[0m \u001b[1m33s\u001b[0m 52ms/step - loss: 0.1450 - sparse_categorical_accuracy: 0.9476 - val_loss: 0.3375 - val_sparse_categorical_accuracy: 0.8816\n",
      "Epoch 6/100\n",
      "\u001b[1m625/625\u001b[0m \u001b[32m━━━━━━━━━━━━━━━━━━━━\u001b[0m\u001b[37m\u001b[0m \u001b[1m34s\u001b[0m 53ms/step - loss: 0.1033 - sparse_categorical_accuracy: 0.9659 - val_loss: 0.3606 - val_sparse_categorical_accuracy: 0.8810\n"
     ]
    }
   ],
   "source": [
    "hist_multi = classifier.fit(train_ds, validation_data=val_ds, epochs=100, callbacks=[early_stopping_cb])\n",
    "hist = hist_multi"
   ]
  },
  {
   "cell_type": "code",
   "execution_count": 8,
   "id": "7c5c9502",
   "metadata": {},
   "outputs": [
    {
     "data": {
      "text/plain": [
       "{'loss': [0.46745365858078003,\n",
       "  0.3030501902103424,\n",
       "  0.23804526031017303,\n",
       "  0.18354249000549316,\n",
       "  0.1380123645067215,\n",
       "  0.0992596223950386],\n",
       " 'sparse_categorical_accuracy': [0.7771000266075134,\n",
       "  0.8753499984741211,\n",
       "  0.9075499773025513,\n",
       "  0.932449996471405,\n",
       "  0.9504500031471252,\n",
       "  0.96670001745224],\n",
       " 'val_loss': [0.3589136302471161,\n",
       "  0.2990482449531555,\n",
       "  0.2907133400440216,\n",
       "  0.32670095562934875,\n",
       "  0.33751484751701355,\n",
       "  0.36057543754577637],\n",
       " 'val_sparse_categorical_accuracy': [0.8482000231742859,\n",
       "  0.8763999938964844,\n",
       "  0.8812000155448914,\n",
       "  0.878600001335144,\n",
       "  0.881600022315979,\n",
       "  0.8809999823570251]}"
      ]
     },
     "execution_count": 8,
     "metadata": {},
     "output_type": "execute_result"
    }
   ],
   "source": [
    "hist_multi.history"
   ]
  },
  {
   "cell_type": "code",
   "execution_count": 9,
   "id": "539e5829",
   "metadata": {},
   "outputs": [
    {
     "name": "stdout",
     "output_type": "stream",
     "text": [
      "Epoch 1/100\n",
      "\u001b[1m625/625\u001b[0m \u001b[32m━━━━━━━━━━━━━━━━━━━━\u001b[0m\u001b[37m\u001b[0m \u001b[1m38s\u001b[0m 55ms/step - accuracy: 0.6661 - loss: 0.5982 - val_accuracy: 0.8196 - val_loss: 0.4079\n",
      "Epoch 2/100\n",
      "\u001b[1m625/625\u001b[0m \u001b[32m━━━━━━━━━━━━━━━━━━━━\u001b[0m\u001b[37m\u001b[0m \u001b[1m41s\u001b[0m 65ms/step - accuracy: 0.8643 - loss: 0.3307 - val_accuracy: 0.8740 - val_loss: 0.3058\n",
      "Epoch 3/100\n",
      "\u001b[1m625/625\u001b[0m \u001b[32m━━━━━━━━━━━━━━━━━━━━\u001b[0m\u001b[37m\u001b[0m \u001b[1m49s\u001b[0m 78ms/step - accuracy: 0.8971 - loss: 0.2585 - val_accuracy: 0.8782 - val_loss: 0.3020\n"
     ]
    }
   ],
   "source": [
    "import keras_nlp\n",
    "\n",
    "classifier = keras_nlp.models.BertClassifier.from_preset(\n",
    "    'bert_tiny_en_uncased',\n",
    "    num_classes=1,\n",
    "    activation='sigmoid',\n",
    ")\n",
    "\n",
    "rmsprop = keras.optimizers.RMSprop(learning_rate=0.001)\n",
    "classifier.compile(\n",
    "    loss='binary_crossentropy',\n",
    "    #optimizer=rmsprop,\n",
    "    metrics=['accuracy']\n",
    ")\n",
    "\n",
    "hist_bin = classifier.fit(train_ds, validation_data=val_ds, epochs=100, callbacks=[early_stopping_cb])\n",
    "hist = hist_bin"
   ]
  },
  {
   "cell_type": "code",
   "execution_count": 10,
   "id": "76341962",
   "metadata": {},
   "outputs": [
    {
     "data": {
      "text/plain": [
       "{'accuracy': [0.7599499821662903, 0.8758500218391418, 0.9053999781608582],\n",
       " 'loss': [0.49218007922172546, 0.3070255219936371, 0.24055956304073334],\n",
       " 'val_accuracy': [0.819599986076355, 0.8740000128746033, 0.8781999945640564],\n",
       " 'val_loss': [0.40785276889801025, 0.30582988262176514, 0.30200156569480896]}"
      ]
     },
     "execution_count": 10,
     "metadata": {},
     "output_type": "execute_result"
    }
   ],
   "source": [
    "hist.history"
   ]
  },
  {
   "cell_type": "code",
   "execution_count": 24,
   "id": "b55793e4",
   "metadata": {},
   "outputs": [],
   "source": [
    "hist = hist_multi"
   ]
  },
  {
   "cell_type": "code",
   "execution_count": 26,
   "id": "3fd92902",
   "metadata": {},
   "outputs": [
    {
     "data": {
      "image/png": "[encoded data removed]",
      "text/plain": [
       "<Figure size 1200x400 with 2 Axes>"
      ]
     },
     "metadata": {},
     "output_type": "display_data"
    }
   ],
   "source": [
    "from matplotlib import pyplot as plt\n",
    "import numpy as np\n",
    "\n",
    "epochs = np.array(hist.epoch) + 1\n",
    "fig, axs = plt.subplots(1, 2, figsize=(12, 4))\n",
    "\n",
    "axs[0].plot(epochs, hist.history['loss'], label='loss')\n",
    "axs[0].plot(epochs, hist.history['val_loss'], label='val_loss')\n",
    "axs[0].set_xticks(epochs)\n",
    "axs[0].set_xlabel('Epoch')\n",
    "axs[0].set_ylabel('Loss')\n",
    "axs[0].legend()\n",
    "\n",
    "axs[1].plot(epochs, hist.history['sparse_categorical_accuracy'], label='accuracy')\n",
    "axs[1].plot(epochs, hist.history['val_sparse_categorical_accuracy'], label='val_accuracy')\n",
    "axs[1].set_xticks(epochs)\n",
    "axs[1].set_xlabel('Epoch')\n",
    "axs[1].set_ylabel('Accuracy')\n",
    "\n",
    "axs[1].legend()\n",
    "plt.show()"
   ]
  },
  {
   "cell_type": "code",
   "execution_count": 12,
   "id": "e6f68037",
   "metadata": {},
   "outputs": [
    {
     "name": "stderr",
     "output_type": "stream",
     "text": [
      "`trust_remote_code` is not supported anymore.\n",
      "Please check that the Hugging Face dataset 'Blpeng/nsmc' isn't based on a loading script and remove `trust_remote_code`.\n",
      "If the dataset is based on a loading script, please ask the dataset author to remove it and convert it to a standard format like Parquet.\n",
      "Repo card metadata block was not found. Setting CardData to empty.\n"
     ]
    },
    {
     "data": {
      "text/plain": [
       "DatasetDict({\n",
       "    train: Dataset({\n",
       "        features: ['Unnamed: 0', 'id', 'document', 'label'],\n",
       "        num_rows: 150000\n",
       "    })\n",
       "    test: Dataset({\n",
       "        features: ['Unnamed: 0', 'id', 'document', 'label'],\n",
       "        num_rows: 50000\n",
       "    })\n",
       "})"
      ]
     },
     "execution_count": 12,
     "metadata": {},
     "output_type": "execute_result"
    }
   ],
   "source": [
    "from datasets import load_dataset\n",
    "\n",
    "#nsmc = load_dataset('e9t/nsmc', trust_remote_code=True)\n",
    "nsmc = load_dataset('Blpeng/nsmc', trust_remote_code=True)\n",
    "nsmc"
   ]
  },
  {
   "cell_type": "code",
   "execution_count": 13,
   "id": "99ffb03b",
   "metadata": {},
   "outputs": [],
   "source": [
    "# 불필요한 열 삭제 및 누락된 데이터 삭제\n",
    "from datasets import DatasetDict\n",
    "\n",
    "nsmc = nsmc.map(remove_columns=[\"Unnamed: 0\"])\n",
    "nsmc = DatasetDict({\n",
    "    split: nsmc[split].filter(lambda x: x['document'] and x['document'].strip())\n",
    "    for split in nsmc})"
   ]
  },
  {
   "cell_type": "code",
   "execution_count": 14,
   "id": "a05c51cb",
   "metadata": {},
   "outputs": [
    {
     "data": {
      "text/plain": [
       "{'id': 9976970, 'document': '아 더빙.. 진짜 짜증나네요 목소리', 'label': 0}"
      ]
     },
     "execution_count": 14,
     "metadata": {},
     "output_type": "execute_result"
    }
   ],
   "source": [
    "nsmc['train'][0]"
   ]
  },
  {
   "cell_type": "code",
   "execution_count": 15,
   "id": "2f75e36a",
   "metadata": {},
   "outputs": [
    {
     "name": "stdout",
     "output_type": "stream",
     "text": [
      "e9t/nsmc\n",
      "Blpeng/nsmc\n",
      "iamyuna/kcbert-nsmc-tokenizer\n",
      "brandonsmckay/embeddingstest\n",
      "ynsmcd/nesd\n",
      "ynsmcd/twiiter\n",
      "ynsmcd/slownesd\n",
      "ynsmcd/SPE\n",
      "ynsmcd/lolo\n",
      "ynsmcd/amara\n",
      "470438\n"
     ]
    }
   ],
   "source": [
    "from huggingface_hub import list_datasets\n",
    "all_datasets = [ds.id for ds in list_datasets()]\n",
    "\n",
    "for ds in all_datasets:\n",
    "    if 'nsmc' in ds:\n",
    "        print(ds)\n",
    "\n",
    "\n",
    "# print(all_datasets)\n",
    "print(len(all_datasets))\n"
   ]
  },
  {
   "cell_type": "code",
   "execution_count": 16,
   "id": "74785ded",
   "metadata": {},
   "outputs": [
    {
     "name": "stderr",
     "output_type": "stream",
     "text": [
      "Some weights of BertForSequenceClassification were not initialized from the model checkpoint at bongsoo/bert-small-kor-v1 and are newly initialized: ['classifier.bias', 'classifier.weight']\n",
      "You should probably TRAIN this model on a down-stream task to be able to use it for predictions and inference.\n"
     ]
    }
   ],
   "source": [
    "#!uv add datasets evaluate\n",
    "from transformers import AutoModelForSequenceClassification, AutoTokenizer\n",
    "\n",
    "bert_kor = AutoModelForSequenceClassification.from_pretrained(\n",
    "    #'bert-base-multilingual-cased',\n",
    "    'bongsoo/bert-small-kor-v1',\n",
    "     num_labels=2,\n",
    "     hidden_dropout_prob=0.3,      # hidden layer dropout\n",
    "     attention_probs_dropout_prob=0.3  # attention dropout\n",
    ")\n",
    "\n",
    "bert_kor_tokenizer = AutoTokenizer.from_pretrained('bongsoo/bert-small-kor-v1')"
   ]
  },
  {
   "cell_type": "code",
   "execution_count": 17,
   "id": "90b1837a",
   "metadata": {},
   "outputs": [
    {
     "data": {
      "text/plain": [
       "BertForSequenceClassification(\n",
       "  (bert): BertModel(\n",
       "    (embeddings): BertEmbeddings(\n",
       "      (word_embeddings): Embedding(10022, 512, padding_idx=0)\n",
       "      (position_embeddings): Embedding(512, 512)\n",
       "      (token_type_embeddings): Embedding(2, 512)\n",
       "      (LayerNorm): LayerNorm((512,), eps=1e-12, elementwise_affine=True)\n",
       "      (dropout): Dropout(p=0.3, inplace=False)\n",
       "    )\n",
       "    (encoder): BertEncoder(\n",
       "      (layer): ModuleList(\n",
       "        (0-3): 4 x BertLayer(\n",
       "          (attention): BertAttention(\n",
       "            (self): BertSdpaSelfAttention(\n",
       "              (query): Linear(in_features=512, out_features=512, bias=True)\n",
       "              (key): Linear(in_features=512, out_features=512, bias=True)\n",
       "              (value): Linear(in_features=512, out_features=512, bias=True)\n",
       "              (dropout): Dropout(p=0.3, inplace=False)\n",
       "            )\n",
       "            (output): BertSelfOutput(\n",
       "              (dense): Linear(in_features=512, out_features=512, bias=True)\n",
       "              (LayerNorm): LayerNorm((512,), eps=1e-12, elementwise_affine=True)\n",
       "              (dropout): Dropout(p=0.3, inplace=False)\n",
       "            )\n",
       "          )\n",
       "          (intermediate): BertIntermediate(\n",
       "            (dense): Linear(in_features=512, out_features=2048, bias=True)\n",
       "            (intermediate_act_fn): GELUActivation()\n",
       "          )\n",
       "          (output): BertOutput(\n",
       "            (dense): Linear(in_features=2048, out_features=512, bias=True)\n",
       "            (LayerNorm): LayerNorm((512,), eps=1e-12, elementwise_affine=True)\n",
       "            (dropout): Dropout(p=0.3, inplace=False)\n",
       "          )\n",
       "        )\n",
       "      )\n",
       "    )\n",
       "    (pooler): BertPooler(\n",
       "      (dense): Linear(in_features=512, out_features=512, bias=True)\n",
       "      (activation): Tanh()\n",
       "    )\n",
       "  )\n",
       "  (dropout): Dropout(p=0.3, inplace=False)\n",
       "  (classifier): Linear(in_features=512, out_features=2, bias=True)\n",
       ")"
      ]
     },
     "execution_count": 17,
     "metadata": {},
     "output_type": "execute_result"
    }
   ],
   "source": [
    "bert_kor"
   ]
  },
  {
   "cell_type": "code",
   "execution_count": 18,
   "id": "4efb11dc",
   "metadata": {},
   "outputs": [
    {
     "data": {
      "application/vnd.jupyter.widget-view+json": {
       "model_id": "7ba2dd7ca6bd4f7dad0571e77d313550",
       "version_major": 2,
       "version_minor": 0
      },
      "text/plain": [
       "Map:   0%|          | 0/149995 [00:00<?, ? examples/s]"
      ]
     },
     "metadata": {},
     "output_type": "display_data"
    }
   ],
   "source": [
    "def tokenize(batch):\n",
    "    # batch['document']가 문자열 리스트임을 명시적으로 보장\n",
    "    texts = [str(doc) for doc in batch['document']]\n",
    "    return bert_kor_tokenizer(\n",
    "        texts,\n",
    "        padding=True,\n",
    "        truncation=True,\n",
    "        # max_length=512,\n",
    "        # return_tensors=None\n",
    "    )\n",
    "\n",
    "nsmc_tokenized = nsmc.map(tokenize, batched=True, batch_size=None)\n",
    "#nsmc_tokenized"
   ]
  },
  {
   "cell_type": "code",
   "execution_count": 19,
   "id": "2c0a24c0",
   "metadata": {},
   "outputs": [
    {
     "name": "stdout",
     "output_type": "stream",
     "text": [
      "DatasetDict({\n",
      "    train: Dataset({\n",
      "        features: ['id', 'document', 'label', 'input_ids', 'token_type_ids', 'attention_mask'],\n",
      "        num_rows: 149995\n",
      "    })\n",
      "    test: Dataset({\n",
      "        features: ['id', 'document', 'label', 'input_ids', 'token_type_ids', 'attention_mask'],\n",
      "        num_rows: 49997\n",
      "    })\n",
      "})\n"
     ]
    }
   ],
   "source": [
    "print(nsmc_tokenized)"
   ]
  },
  {
   "cell_type": "code",
   "execution_count": 20,
   "id": "335983ac",
   "metadata": {},
   "outputs": [],
   "source": [
    "nsmc_train = nsmc_tokenized['train'].shuffle(seed=42).select(range(50000))\n",
    "nsmc_test = nsmc_tokenized['test'].shuffle(seed=42).select(range(10000))"
   ]
  },
  {
   "cell_type": "code",
   "execution_count": 21,
   "id": "564d3008",
   "metadata": {},
   "outputs": [
    {
     "data": {
      "application/vnd.jupyter.widget-view+json": {
       "model_id": "7493046cc1d84304af7ade75f3720c81",
       "version_major": 2,
       "version_minor": 0
      },
      "text/plain": [
       "  0%|          | 0/125000 [00:00<?, ?it/s]"
      ]
     },
     "metadata": {},
     "output_type": "display_data"
    },
    {
     "name": "stdout",
     "output_type": "stream",
     "text": [
      "{'loss': 0.5003, 'grad_norm': 7.763807773590088, 'learning_rate': 1.9076305220883535e-05, 'epoch': 1.0}\n"
     ]
    },
    {
     "data": {
      "application/vnd.jupyter.widget-view+json": {
       "model_id": "7322b3a8098a4e97bcfdcc09c9506530",
       "version_major": 2,
       "version_minor": 0
      },
      "text/plain": [
       "  0%|          | 0/1250 [00:00<?, ?it/s]"
      ]
     },
     "metadata": {},
     "output_type": "display_data"
    },
    {
     "name": "stdout",
     "output_type": "stream",
     "text": [
      "{'eval_loss': 0.4515933096408844, 'eval_accuracy': 0.8247, 'eval_runtime': 15.3865, 'eval_samples_per_second': 649.92, 'eval_steps_per_second': 81.24, 'epoch': 1.0}\n"
     ]
    },
    {
     "data": {
      "application/vnd.jupyter.widget-view+json": {
       "model_id": "ce6f3f15f222400ab3f6d6c8bddfdbd7",
       "version_major": 2,
       "version_minor": 0
      },
      "text/plain": [
       "  0%|          | 0/250 [00:00<?, ?it/s]"
      ]
     },
     "metadata": {},
     "output_type": "display_data"
    },
    {
     "name": "stderr",
     "output_type": "stream",
     "text": [
      "early stopping required metric_for_best_model, but did not find eval_accuracy so early stopping is disabled\n"
     ]
    },
    {
     "name": "stdout",
     "output_type": "stream",
     "text": [
      "{'train_loss': 0.4370386302471161, 'train_accuracy': 0.818, 'train_runtime': 2.9788, 'train_samples_per_second': 671.405, 'train_steps_per_second': 83.926, 'epoch': 1.0}\n",
      "{'loss': 0.4167, 'grad_norm': 12.935795783996582, 'learning_rate': 1.807228915662651e-05, 'epoch': 2.0}\n"
     ]
    },
    {
     "data": {
      "application/vnd.jupyter.widget-view+json": {
       "model_id": "542daea7af044c9988b2e7befe6ef2eb",
       "version_major": 2,
       "version_minor": 0
      },
      "text/plain": [
       "  0%|          | 0/1250 [00:00<?, ?it/s]"
      ]
     },
     "metadata": {},
     "output_type": "display_data"
    },
    {
     "name": "stdout",
     "output_type": "stream",
     "text": [
      "{'eval_loss': 0.4396882951259613, 'eval_accuracy': 0.8275, 'eval_runtime': 15.3192, 'eval_samples_per_second': 652.774, 'eval_steps_per_second': 81.597, 'epoch': 2.0}\n"
     ]
    },
    {
     "data": {
      "application/vnd.jupyter.widget-view+json": {
       "model_id": "e07a33feb495494c83907351b96b38d0",
       "version_major": 2,
       "version_minor": 0
      },
      "text/plain": [
       "  0%|          | 0/250 [00:00<?, ?it/s]"
      ]
     },
     "metadata": {},
     "output_type": "display_data"
    },
    {
     "name": "stderr",
     "output_type": "stream",
     "text": [
      "early stopping required metric_for_best_model, but did not find eval_accuracy so early stopping is disabled\n"
     ]
    },
    {
     "name": "stdout",
     "output_type": "stream",
     "text": [
      "{'train_loss': 0.39376300573349, 'train_accuracy': 0.841, 'train_runtime': 2.8905, 'train_samples_per_second': 691.912, 'train_steps_per_second': 86.489, 'epoch': 2.0}\n",
      "{'loss': 0.3862, 'grad_norm': 15.056137084960938, 'learning_rate': 1.7068273092369478e-05, 'epoch': 3.0}\n"
     ]
    },
    {
     "data": {
      "application/vnd.jupyter.widget-view+json": {
       "model_id": "1a6528c2d87e4495b2e18dc20aa9f906",
       "version_major": 2,
       "version_minor": 0
      },
      "text/plain": [
       "  0%|          | 0/1250 [00:00<?, ?it/s]"
      ]
     },
     "metadata": {},
     "output_type": "display_data"
    },
    {
     "name": "stdout",
     "output_type": "stream",
     "text": [
      "{'eval_loss': 0.4435461461544037, 'eval_accuracy': 0.8427, 'eval_runtime': 15.1762, 'eval_samples_per_second': 658.925, 'eval_steps_per_second': 82.366, 'epoch': 3.0}\n"
     ]
    },
    {
     "data": {
      "application/vnd.jupyter.widget-view+json": {
       "model_id": "555049330a9b4ccaa78f3124d1df4cf1",
       "version_major": 2,
       "version_minor": 0
      },
      "text/plain": [
       "  0%|          | 0/250 [00:00<?, ?it/s]"
      ]
     },
     "metadata": {},
     "output_type": "display_data"
    },
    {
     "name": "stderr",
     "output_type": "stream",
     "text": [
      "early stopping required metric_for_best_model, but did not find eval_accuracy so early stopping is disabled\n"
     ]
    },
    {
     "name": "stdout",
     "output_type": "stream",
     "text": [
      "{'train_loss': 0.37871724367141724, 'train_accuracy': 0.855, 'train_runtime': 3.1162, 'train_samples_per_second': 641.811, 'train_steps_per_second': 80.226, 'epoch': 3.0}\n",
      "{'loss': 0.3719, 'grad_norm': 11.66916275024414, 'learning_rate': 1.606425702811245e-05, 'epoch': 4.0}\n"
     ]
    },
    {
     "data": {
      "application/vnd.jupyter.widget-view+json": {
       "model_id": "e20b676b94724d14bc6f9196ffd427be",
       "version_major": 2,
       "version_minor": 0
      },
      "text/plain": [
       "  0%|          | 0/1250 [00:00<?, ?it/s]"
      ]
     },
     "metadata": {},
     "output_type": "display_data"
    },
    {
     "name": "stdout",
     "output_type": "stream",
     "text": [
      "{'eval_loss': 0.42280706763267517, 'eval_accuracy': 0.8395, 'eval_runtime': 15.5036, 'eval_samples_per_second': 645.012, 'eval_steps_per_second': 80.627, 'epoch': 4.0}\n"
     ]
    },
    {
     "data": {
      "application/vnd.jupyter.widget-view+json": {
       "model_id": "bd1d6650ccf94c98a59d3a3704d2e3e6",
       "version_major": 2,
       "version_minor": 0
      },
      "text/plain": [
       "  0%|          | 0/250 [00:00<?, ?it/s]"
      ]
     },
     "metadata": {},
     "output_type": "display_data"
    },
    {
     "name": "stderr",
     "output_type": "stream",
     "text": [
      "early stopping required metric_for_best_model, but did not find eval_accuracy so early stopping is disabled\n"
     ]
    },
    {
     "name": "stdout",
     "output_type": "stream",
     "text": [
      "{'train_loss': 0.32195237278938293, 'train_accuracy': 0.8735, 'train_runtime': 3.0884, 'train_samples_per_second': 647.581, 'train_steps_per_second': 80.948, 'epoch': 4.0}\n",
      "{'loss': 0.3529, 'grad_norm': 5.553444862365723, 'learning_rate': 1.5060240963855424e-05, 'epoch': 5.0}\n"
     ]
    },
    {
     "data": {
      "application/vnd.jupyter.widget-view+json": {
       "model_id": "b4e88aa5143c4340b5e29bce2efb1445",
       "version_major": 2,
       "version_minor": 0
      },
      "text/plain": [
       "  0%|          | 0/1250 [00:00<?, ?it/s]"
      ]
     },
     "metadata": {},
     "output_type": "display_data"
    },
    {
     "name": "stdout",
     "output_type": "stream",
     "text": [
      "{'eval_loss': 0.40312445163726807, 'eval_accuracy': 0.8508, 'eval_runtime': 15.4531, 'eval_samples_per_second': 647.119, 'eval_steps_per_second': 80.89, 'epoch': 5.0}\n"
     ]
    },
    {
     "data": {
      "application/vnd.jupyter.widget-view+json": {
       "model_id": "cee119c628244cbeb8da6026eccc017c",
       "version_major": 2,
       "version_minor": 0
      },
      "text/plain": [
       "  0%|          | 0/250 [00:00<?, ?it/s]"
      ]
     },
     "metadata": {},
     "output_type": "display_data"
    },
    {
     "name": "stderr",
     "output_type": "stream",
     "text": [
      "early stopping required metric_for_best_model, but did not find eval_accuracy so early stopping is disabled\n"
     ]
    },
    {
     "name": "stdout",
     "output_type": "stream",
     "text": [
      "{'train_loss': 0.2917196750640869, 'train_accuracy': 0.8835, 'train_runtime': 2.935, 'train_samples_per_second': 681.432, 'train_steps_per_second': 85.179, 'epoch': 5.0}\n",
      "{'loss': 0.3423, 'grad_norm': 5.898165702819824, 'learning_rate': 1.4056224899598394e-05, 'epoch': 6.0}\n"
     ]
    },
    {
     "data": {
      "application/vnd.jupyter.widget-view+json": {
       "model_id": "cbd321d29cb041e2b0d1e1d640ee66a6",
       "version_major": 2,
       "version_minor": 0
      },
      "text/plain": [
       "  0%|          | 0/1250 [00:00<?, ?it/s]"
      ]
     },
     "metadata": {},
     "output_type": "display_data"
    },
    {
     "name": "stdout",
     "output_type": "stream",
     "text": [
      "{'eval_loss': 0.4747602939605713, 'eval_accuracy': 0.849, 'eval_runtime': 15.3052, 'eval_samples_per_second': 653.374, 'eval_steps_per_second': 81.672, 'epoch': 6.0}\n"
     ]
    },
    {
     "data": {
      "application/vnd.jupyter.widget-view+json": {
       "model_id": "9b9b472152204f8a89df2c810ff4ebf6",
       "version_major": 2,
       "version_minor": 0
      },
      "text/plain": [
       "  0%|          | 0/250 [00:00<?, ?it/s]"
      ]
     },
     "metadata": {},
     "output_type": "display_data"
    },
    {
     "name": "stderr",
     "output_type": "stream",
     "text": [
      "early stopping required metric_for_best_model, but did not find eval_accuracy so early stopping is disabled\n"
     ]
    },
    {
     "name": "stdout",
     "output_type": "stream",
     "text": [
      "{'train_loss': 0.313717246055603, 'train_accuracy': 0.8935, 'train_runtime': 2.9961, 'train_samples_per_second': 667.537, 'train_steps_per_second': 83.442, 'epoch': 6.0}\n",
      "{'loss': 0.3363, 'grad_norm': 14.225591659545898, 'learning_rate': 1.3052208835341367e-05, 'epoch': 7.0}\n"
     ]
    },
    {
     "data": {
      "application/vnd.jupyter.widget-view+json": {
       "model_id": "d6b33abcd740462ab96fa1526a353621",
       "version_major": 2,
       "version_minor": 0
      },
      "text/plain": [
       "  0%|          | 0/1250 [00:00<?, ?it/s]"
      ]
     },
     "metadata": {},
     "output_type": "display_data"
    },
    {
     "name": "stdout",
     "output_type": "stream",
     "text": [
      "{'eval_loss': 0.45982158184051514, 'eval_accuracy': 0.8472, 'eval_runtime': 15.5741, 'eval_samples_per_second': 642.091, 'eval_steps_per_second': 80.261, 'epoch': 7.0}\n"
     ]
    },
    {
     "data": {
      "application/vnd.jupyter.widget-view+json": {
       "model_id": "64a6729f9ba34a088fc9535c349fc800",
       "version_major": 2,
       "version_minor": 0
      },
      "text/plain": [
       "  0%|          | 0/250 [00:00<?, ?it/s]"
      ]
     },
     "metadata": {},
     "output_type": "display_data"
    },
    {
     "name": "stderr",
     "output_type": "stream",
     "text": [
      "early stopping required metric_for_best_model, but did not find eval_accuracy so early stopping is disabled\n"
     ]
    },
    {
     "name": "stdout",
     "output_type": "stream",
     "text": [
      "{'train_loss': 0.2863853871822357, 'train_accuracy': 0.8945, 'train_runtime': 3.02, 'train_samples_per_second': 662.257, 'train_steps_per_second': 82.782, 'epoch': 7.0}\n",
      "{'loss': 0.3264, 'grad_norm': 12.090903282165527, 'learning_rate': 1.204819277108434e-05, 'epoch': 8.0}\n"
     ]
    },
    {
     "data": {
      "application/vnd.jupyter.widget-view+json": {
       "model_id": "0e3f21b54c0a4c6292bc11bec3ba5d71",
       "version_major": 2,
       "version_minor": 0
      },
      "text/plain": [
       "  0%|          | 0/1250 [00:00<?, ?it/s]"
      ]
     },
     "metadata": {},
     "output_type": "display_data"
    },
    {
     "name": "stdout",
     "output_type": "stream",
     "text": [
      "{'eval_loss': 0.5196211338043213, 'eval_accuracy': 0.8485, 'eval_runtime': 15.1902, 'eval_samples_per_second': 658.319, 'eval_steps_per_second': 82.29, 'epoch': 8.0}\n"
     ]
    },
    {
     "data": {
      "application/vnd.jupyter.widget-view+json": {
       "model_id": "bc1e16dfc8c749d99ceb2631c7e7d6c0",
       "version_major": 2,
       "version_minor": 0
      },
      "text/plain": [
       "  0%|          | 0/250 [00:00<?, ?it/s]"
      ]
     },
     "metadata": {},
     "output_type": "display_data"
    },
    {
     "name": "stderr",
     "output_type": "stream",
     "text": [
      "early stopping required metric_for_best_model, but did not find eval_accuracy so early stopping is disabled\n"
     ]
    },
    {
     "name": "stdout",
     "output_type": "stream",
     "text": [
      "{'train_loss': 0.30771487951278687, 'train_accuracy': 0.899, 'train_runtime': 2.9319, 'train_samples_per_second': 682.161, 'train_steps_per_second': 85.27, 'epoch': 8.0}\n",
      "{'train_runtime': 2093.2752, 'train_samples_per_second': 477.72, 'train_steps_per_second': 59.715, 'train_loss': 0.3791350146484375, 'epoch': 8.0}\n"
     ]
    },
    {
     "data": {
      "text/plain": [
       "TrainOutput(global_step=50000, training_loss=0.3791350146484375, metrics={'train_runtime': 2093.2752, 'train_samples_per_second': 477.72, 'train_steps_per_second': 59.715, 'total_flos': 4387541673600000.0, 'train_loss': 0.3791350146484375, 'epoch': 8.0})"
      ]
     },
     "execution_count": 21,
     "metadata": {},
     "output_type": "execute_result"
    }
   ],
   "source": [
    "from transformers import TrainingArguments, Trainer, EarlyStoppingCallback\n",
    "import evaluate\n",
    "from sklearn.metrics import accuracy_score, f1_score\n",
    "import numpy as np\n",
    "\n",
    "metric = evaluate.load('accuracy')\n",
    "\n",
    "def compute_metrics(eval_pred):\n",
    "    logits, labels = eval_pred\n",
    "    predictions = np.argmax(logits, axis=-1)\n",
    "    return metric.compute(predictions=predictions, references=labels)\n",
    "\n",
    "training_args = TrainingArguments(\n",
    "    output_dir='bert_kor_nsmc_02',\n",
    "    num_train_epochs=20,\n",
    "    eval_strategy='epoch',\n",
    "    save_strategy='epoch',\n",
    "    logging_strategy='steps',  # 로깅 전략 추가\n",
    "    logging_steps=len(nsmc_train) // 8,  # 오타 수정\n",
    "    eval_steps=len(nsmc_train) // 4,  # eval 주기 설정\n",
    "    load_best_model_at_end=True,\n",
    "    metric_for_best_model='eval_accuracy',  # 최고 모델 선택 기준\n",
    "    greater_is_better=True,\n",
    "    report_to='none',\n",
    "    #report_to='wandb',\n",
    "    dataloader_pin_memory=False,  # 메모리 효율성\n",
    "    weight_decay=0.01,\n",
    "    warmup_steps=500,\n",
    "    learning_rate=2e-5,\n",
    ")\n",
    "\n",
    "# training set의 작은 subset으로 train eval 생성 (메모리 절약)\n",
    "nsmc_train_eval = nsmc_train.select(range(min(2000, len(nsmc_train))))\n",
    "\n",
    "trainer = Trainer(\n",
    "    model=bert_kor,\n",
    "    args=training_args,\n",
    "    train_dataset=nsmc_train,\n",
    "    eval_dataset=nsmc_test,  # validation용\n",
    "    compute_metrics=compute_metrics,\n",
    ")\n",
    "\n",
    "# 수동으로 train set evaluation 추가하는 방법\n",
    "class CustomTrainer(Trainer):\n",
    "    def evaluate(self, eval_dataset=None, ignore_keys=None, metric_key_prefix=\"eval\"):\n",
    "        # 먼저 기본 eval_dataset (test) 평가\n",
    "        eval_results = super().evaluate(eval_dataset, ignore_keys, metric_key_prefix)\n",
    "        \n",
    "        # train dataset도 평가 (subset 사용)\n",
    "        train_results = super().evaluate(nsmc_train_eval, ignore_keys, \"train\")\n",
    "        \n",
    "        # 결과 합치기\n",
    "        eval_results.update(train_results)\n",
    "        return eval_results\n",
    "\n",
    "custom_trainer = CustomTrainer(\n",
    "    model=bert_kor,\n",
    "    args=training_args,\n",
    "    train_dataset=nsmc_train,\n",
    "    eval_dataset=nsmc_test,\n",
    "    compute_metrics=compute_metrics,\n",
    ")\n",
    "\n",
    "custom_trainer.add_callback(EarlyStoppingCallback(early_stopping_patience=3))\n",
    "\n",
    "custom_trainer.train()"
   ]
  },
  {
   "cell_type": "code",
   "execution_count": 22,
   "id": "7aa99a03",
   "metadata": {},
   "outputs": [
    {
     "name": "stdout",
     "output_type": "stream",
     "text": [
      "=== 학습 로그 분석 중... ===\n",
      "총 로그 엔트리: 25개\n",
      "📈 Train 데이터 포인트: 8개\n",
      "📈 Validation 데이터 포인트: 8개\n",
      "🔍 Train 길이 체크: epochs(8), loss(8), acc(8)\n",
      "🔍 Val 길이 체크: epochs(8), loss(8), acc(8)\n"
     ]
    },
    {
     "data": {
      "image/png": "[encoded data removed]",
      "text/plain": [
       "<Figure size 1600x600 with 2 Axes>"
      ]
     },
     "metadata": {},
     "output_type": "display_data"
    },
    {
     "name": "stdout",
     "output_type": "stream",
     "text": [
      "\n",
      "==================================================\n",
      "📊 최종 학습 성능 요약\n",
      "==================================================\n",
      "🔹 Train Loss:      0.3077\n",
      "🔹 Validation Loss: 0.5196\n",
      "🔹 Train Accuracy:  89.90%\n",
      "🔹 Val Accuracy:    84.85%\n",
      "\n",
      "🔍 과적합 진단:\n",
      "   Loss 차이:     +0.2119 (Val - Train)\n",
      "   Accuracy 차이: +5.05% (Train - Val)\n",
      "\n",
      "🟡 결론: ⚠️ 경미한 과적합\n",
      "\n",
      "🏆 최고 검증 정확도: 85.08% (Epoch 5.0)\n"
     ]
    }
   ],
   "source": [
    "# 📊 Train vs Validation 학습 곡선 분석\n",
    "import matplotlib.pyplot as plt\n",
    "import numpy as np\n",
    "\n",
    "# 한글 폰트 설정\n",
    "plt.rcParams['font.family'] = 'AppleGothic'  # 맥OS용 한글 폰트\n",
    "plt.rcParams['axes.unicode_minus'] = False  # 마이너스 부호 깨짐 방지\n",
    "\n",
    "print(\"=== 학습 로그 분석 중... ===\")\n",
    "\n",
    "# 1. 로그 히스토리에서 메트릭 추출 (안전한 방식)\n",
    "logs = custom_trainer.state.log_history\n",
    "\n",
    "print(f\"총 로그 엔트리: {len(logs)}개\")\n",
    "\n",
    "# Train 메트릭과 Validation 메트릭을 분리하여 추출\n",
    "train_data = []\n",
    "val_data = []\n",
    "\n",
    "for log in logs:\n",
    "    # Train 메트릭이 있는 로그 (train_loss와 train_accuracy가 모두 있어야 함)\n",
    "    if 'train_loss' in log and 'train_accuracy' in log and 'epoch' in log:\n",
    "        train_data.append({\n",
    "            'epoch': log['epoch'],\n",
    "            'loss': log['train_loss'],\n",
    "            'accuracy': log['train_accuracy']\n",
    "        })\n",
    "    \n",
    "    # Validation 메트릭이 있는 로그 (train 메트릭이 없는 것만)\n",
    "    elif 'eval_loss' in log and 'eval_accuracy' in log and 'epoch' in log and 'train_loss' not in log:\n",
    "        val_data.append({\n",
    "            'epoch': log['epoch'],\n",
    "            'loss': log['eval_loss'],\n",
    "            'accuracy': log['eval_accuracy']\n",
    "        })\n",
    "\n",
    "# 데이터 정렬 (epoch 순서대로)\n",
    "train_data.sort(key=lambda x: x['epoch'])\n",
    "val_data.sort(key=lambda x: x['epoch'])\n",
    "\n",
    "# 리스트로 변환\n",
    "train_epochs = [d['epoch'] for d in train_data]\n",
    "train_loss = [d['loss'] for d in train_data]\n",
    "train_accuracy = [d['accuracy'] for d in train_data]\n",
    "\n",
    "val_epochs = [d['epoch'] for d in val_data]\n",
    "val_loss = [d['loss'] for d in val_data]\n",
    "val_accuracy = [d['accuracy'] for d in val_data]\n",
    "\n",
    "print(f\"📈 Train 데이터 포인트: {len(train_loss)}개\")\n",
    "print(f\"📈 Validation 데이터 포인트: {len(val_loss)}개\")\n",
    "print(f\"🔍 Train 길이 체크: epochs({len(train_epochs)}), loss({len(train_loss)}), acc({len(train_accuracy)})\")\n",
    "print(f\"🔍 Val 길이 체크: epochs({len(val_epochs)}), loss({len(val_loss)}), acc({len(val_accuracy)})\")\n",
    "\n",
    "# 2. 학습 곡선 그래프\n",
    "plt.figure(figsize=(16, 6))\n",
    "\n",
    "# Loss 그래프\n",
    "plt.subplot(1, 2, 1)\n",
    "if train_loss and train_epochs:\n",
    "    plt.plot(train_epochs, train_loss, 'o-', label='Train Loss', color='blue', markersize=6, alpha=0.8)\n",
    "if val_loss and val_epochs:\n",
    "    plt.plot(val_epochs, val_loss, 's-', label='Validation Loss', color='red', markersize=6, alpha=0.8)\n",
    "\n",
    "plt.xlabel('Epoch', fontsize=12)\n",
    "plt.ylabel('Loss', fontsize=12)\n",
    "plt.title('Training vs Validation Loss', fontsize=14, fontweight='bold')\n",
    "plt.legend(fontsize=11)\n",
    "plt.grid(True, alpha=0.3)\n",
    "\n",
    "# Accuracy 그래프\n",
    "plt.subplot(1, 2, 2)\n",
    "if train_accuracy and train_epochs:\n",
    "    plt.plot(train_epochs, train_accuracy, 'o-', label='Train Accuracy', color='blue', markersize=6, alpha=0.8)\n",
    "if val_accuracy and val_epochs:\n",
    "    plt.plot(val_epochs, val_accuracy, 's-', label='Validation Accuracy', color='red', markersize=6, alpha=0.8)\n",
    "\n",
    "plt.xlabel('Epoch', fontsize=12)\n",
    "plt.ylabel('Accuracy', fontsize=12)\n",
    "plt.title('Training vs Validation Accuracy', fontsize=14, fontweight='bold')\n",
    "plt.legend(fontsize=11)\n",
    "plt.grid(True, alpha=0.3)\n",
    "\n",
    "plt.tight_layout()\n",
    "plt.show()\n",
    "\n",
    "# 3. 성능 분석 및 과적합 진단\n",
    "if train_loss and val_loss and train_accuracy and val_accuracy:\n",
    "    final_train_loss = train_loss[-1]\n",
    "    final_val_loss = val_loss[-1]\n",
    "    final_train_acc = train_accuracy[-1]\n",
    "    final_val_acc = val_accuracy[-1]\n",
    "    \n",
    "    print(\"\\n\" + \"=\"*50)\n",
    "    print(\"📊 최종 학습 성능 요약\")\n",
    "    print(\"=\"*50)\n",
    "    print(f\"🔹 Train Loss:      {final_train_loss:.4f}\")\n",
    "    print(f\"🔹 Validation Loss: {final_val_loss:.4f}\")\n",
    "    print(f\"🔹 Train Accuracy:  {final_train_acc:.2%}\")\n",
    "    print(f\"🔹 Val Accuracy:    {final_val_acc:.2%}\")\n",
    "    \n",
    "    # 과적합 진단\n",
    "    loss_gap = final_val_loss - final_train_loss\n",
    "    acc_gap = final_train_acc - final_val_acc\n",
    "    \n",
    "    print(f\"\\n🔍 과적합 진단:\")\n",
    "    print(f\"   Loss 차이:     {loss_gap:+.4f} (Val - Train)\")\n",
    "    print(f\"   Accuracy 차이: {acc_gap:+.2%} (Train - Val)\")\n",
    "    \n",
    "    # 진단 결과\n",
    "    if abs(acc_gap) < 0.02:  # 2% 미만\n",
    "        status = \"✅ 우수한 일반화 성능\"\n",
    "        color = \"🟢\"\n",
    "    elif abs(acc_gap) < 0.05:  # 5% 미만\n",
    "        status = \"✅ 좋은 일반화 성능\"\n",
    "        color = \"🟢\"\n",
    "    elif abs(acc_gap) < 0.10:  # 10% 미만\n",
    "        status = \"⚠️ 경미한 과적합\"\n",
    "        color = \"🟡\"\n",
    "    elif abs(acc_gap) < 0.20:  # 20% 미만\n",
    "        status = \"⚠️ 중간 수준 과적합\"\n",
    "        color = \"🟡\"\n",
    "    else:\n",
    "        status = \"🚨 심각한 과적합\"\n",
    "        color = \"🔴\"\n",
    "    \n",
    "    print(f\"\\n{color} 결론: {status}\")\n",
    "    \n",
    "    # 최고 성능 찾기\n",
    "    if val_accuracy:\n",
    "        best_val_acc = max(val_accuracy)\n",
    "        best_epoch = val_epochs[val_accuracy.index(best_val_acc)]\n",
    "        print(f\"\\n🏆 최고 검증 정확도: {best_val_acc:.2%} (Epoch {best_epoch:.1f})\")\n",
    "        \n",
    "else:\n",
    "    print(\"\\n⚠️ Train 메트릭이 충분하지 않습니다.\")\n",
    "    print(\"다음 학습에서는 전체 과정이 기록될 것입니다.\")\n"
   ]
  }
 ],
 "metadata": {
  "kernelspec": {
   "display_name": ".venv",
   "language": "python",
   "name": "python3"
  },
  "language_info": {
   "codemirror_mode": {
    "name": "ipython",
    "version": 3
   },
   "file_extension": ".py",
   "mimetype": "text/x-python",
   "name": "python",
   "nbconvert_exporter": "python",
   "pygments_lexer": "ipython3",
   "version": "3.10.16"
  }
 },
 "nbformat": 4,
 "nbformat_minor": 5
}
