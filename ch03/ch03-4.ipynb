# 나중에 저장된 체크포인트에서 메트릭 로드하는 방법
def load_metrics_from_checkpoint(checkpoint_dir):
    """특정 체크포인트에서 trainer_state.json 로드"""
    trainer_state_path = os.path.join(checkpoint_dir, "trainer_state.json")
    
    with open(trainer_state_path, "r") as f:
        trainer_state = json.load(f)
    
    return trainer_state["log_history"]

# 예시: 최종 체크포인트에서 메트릭 로드하고 시각화
# log_history = load_metrics_from_checkpoint("efficientnet-b0-finetuned_20250805/checkpoint-4300")
# plot_metrics_from_logs(log_history)# 학습 완료 후 실시간 메트릭 시각화
def plot_training_metrics(trainer):
    """학습 완료된 trainer에서 메트릭을 가져와 시각화"""
    log_history = trainer.state.log_history
    
    # 데이터 분리
    eval_logs = [log for log in log_history if "eval_loss" in log]
    
    if not eval_logs:
        print("평가 로그가 없습니다.")
        return
    
    # 에포크별 데이터 추출
    epochs = [log['epoch'] for log in eval_logs]
    eval_losses = [log['eval_loss'] for log in eval_logs]
    eval_accuracies = [log.get('eval_accuracy', 0) for log in eval_logs]
    eval_f1s = [log.get('eval_f1', 0) for log in eval_logs]
    
    # 시각화
    fig, axes = plt.subplots(1, 3, figsize=(18, 5))
    
    # Loss
    axes[0].plot(epochs, eval_losses, 'b-o', linewidth=2, markersize=6)
    axes[0].set_title('Validation Loss')
    axes[0].set_xlabel('Epoch')
    axes[0].set_ylabel('Loss')
    axes[0].grid(True, alpha=0.3)
    
    # Accuracy
    axes[1].plot(epochs, eval_accuracies, 'g-o', linewidth=2, markersize=6)
    axes[1].set_title('Validation Accuracy')
    axes[1].set_xlabel('Epoch')
    axes[1].set_ylabel('Accuracy')
    axes[1].set_ylim(0, 1)
    axes[1].grid(True, alpha=0.3)
    
    # F1 Score
    axes[2].plot(epochs, eval_f1s, 'm-o', linewidth=2, markersize=6)
    axes[2].set_title('Validation F1 Score')
    axes[2].set_xlabel('Epoch')
    axes[2].set_ylabel('F1 Score')
    axes[2].set_ylim(0, 1)
    axes[2].grid(True, alpha=0.3)
    
    plt.tight_layout()
    plt.show()
    
    # 요약 통계
    print("=== 학습 결과 요약 ===")
    print(f"총 에포크: {len(epochs)}")
    print(f"최종 검증 손실: {eval_losses[-1]:.4f}")
    print(f"최저 검증 손실: {min(eval_losses):.4f} (에포크 {epochs[eval_losses.index(min(eval_losses))]:.1f})")
    if max(eval_accuracies) > 0:
        print(f"최종 검증 정확도: {eval_accuracies[-1]:.4f}")
        print(f"최고 검증 정확도: {max(eval_accuracies):.4f} (에포크 {epochs[eval_accuracies.index(max(eval_accuracies))]:.1f})")
    
    return pd.DataFrame({
        'epoch': epochs,
        'eval_loss': eval_losses,
        'eval_accuracy': eval_accuracies,
        'eval_f1': eval_f1s
    })

# 학습 후 바로 실행하려면:
# metrics_df = plot_training_metrics(trainer)# 저장된 메트릭을 나중에 로드하는 방법
import os
import json
import matplotlib.pyplot as plt
import pandas as pd

def load_and_plot_metrics(output_dir):
    """저장된 trainer_state.json에서 메트릭을 로드하고 시각화"""
    
    # trainer_state.json 파일에서 메트릭 로드
    trainer_state_path = os.path.join(output_dir, "trainer_state.json")
    
    if os.path.exists(trainer_state_path):
        with open(trainer_state_path, "r") as f:
            trainer_state = json.load(f)
        
        log_history = trainer_state["log_history"]
        
        # 데이터 분리
        train_logs = [log for log in log_history if "train_loss" in log]
        eval_logs = [log for log in log_history if "eval_loss" in log]
        
        if not eval_logs:
            print("검증 로그를 찾을 수 없습니다.")
            return
            
        # 시각화
        fig, (ax1, ax2, ax3) = plt.subplots(1, 3, figsize=(18, 5))
        
        epochs = [log['epoch'] for log in eval_logs]
        
        # 1. Loss 그래프
        eval_losses = [log['eval_loss'] for log in eval_logs]
        ax1.plot(epochs, eval_losses, 'b-', label='Validation Loss', marker='o', linewidth=2)
        
        # train_loss가 있다면 함께 표시
        if train_logs and len(train_logs) > 0:
            train_epochs = [log['epoch'] for log in train_logs]
            train_losses = [log['train_loss'] for log in train_logs]
            ax1.plot(train_epochs, train_losses, 'r-', label='Train Loss', marker='s', linewidth=2, alpha=0.7)
        
        ax1.set_xlabel('Epoch')
        ax1.set_ylabel('Loss')
        ax1.set_title('Loss per Epoch')
        ax1.legend()
        ax1.grid(True, alpha=0.3)
        
        # 2. Accuracy 그래프
        if 'eval_accuracy' in eval_logs[0]:
            eval_accuracies = [log['eval_accuracy'] for log in eval_logs]
            ax2.plot(epochs, eval_accuracies, 'g-', label='Validation Accuracy', marker='o', linewidth=2)
            ax2.set_xlabel('Epoch')
            ax2.set_ylabel('Accuracy')
            ax2.set_title('Accuracy per Epoch')
            ax2.legend()
            ax2.grid(True, alpha=0.3)
            ax2.set_ylim(0, 1)
        
        # 3. F1 Score 그래프 (있는 경우)
        if 'eval_f1' in eval_logs[0]:
            eval_f1s = [log['eval_f1'] for log in eval_logs]
            ax3.plot(epochs, eval_f1s, 'm-', label='Validation F1', marker='o', linewidth=2)
            ax3.set_xlabel('Epoch')
            ax3.set_ylabel('F1 Score')
            ax3.set_title('F1 Score per Epoch')
            ax3.legend()
            ax3.grid(True, alpha=0.3)
            ax3.set_ylim(0, 1)
        
        plt.tight_layout()
        plt.show()
        
        # 통계 출력
        print("=== 학습 결과 요약 ===")
        if 'eval_accuracy' in eval_logs[0]:
            print(f"최종 검증 정확도: {eval_accuracies[-1]:.4f}")
            print(f"최고 검증 정확도: {max(eval_accuracies):.4f} (에포크 {epochs[eval_accuracies.index(max(eval_accuracies))]:.1f})")
        print(f"최종 검증 손실: {eval_losses[-1]:.4f}")
        print(f"최저 검증 손실: {min(eval_losses):.4f} (에포크 {epochs[eval_losses.index(min(eval_losses))]:.1f})")
        
        # CSV로도 저장
        df_data = {"epoch": epochs, "eval_loss": eval_losses}
        if 'eval_accuracy' in eval_logs[0]:
            df_data["eval_accuracy"] = [log['eval_accuracy'] for log in eval_logs]
        if 'eval_f1' in eval_logs[0]:
            df_data["eval_f1"] = [log['eval_f1'] for log in eval_logs]
            
        df = pd.DataFrame(df_data)
        csv_path = os.path.join(output_dir, "training_metrics.csv")
        df.to_csv(csv_path, index=False)
        print(f"메트릭이 CSV로 저장됨: {csv_path}")
        
        return df
    else:
        print(f"trainer_state.json 파일을 찾을 수 없습니다: {trainer_state_path}")
        return None

# 현재 학습의 메트릭 시각화 (학습 완료 후 실행)
# metrics_df = load_and_plot_metrics(training_args.output_dir)# 에포크별 loss, accuracy 시각화
fig, (ax1, ax2) = plt.subplots(1, 2, figsize=(15, 5))

# Loss 그래프
epochs = [log['epoch'] for log in eval_logs]
train_losses = [log['train_loss'] for log in train_logs]
eval_losses = [log['eval_loss'] for log in eval_logs]

ax1.plot(epochs, eval_losses, 'b-', label='Validation Loss', marker='o')
if len(train_losses) == len(epochs):
    ax1.plot(epochs, train_losses, 'r-', label='Train Loss', marker='s')
ax1.set_xlabel('Epoch')
ax1.set_ylabel('Loss')
ax1.set_title('Loss per Epoch')
ax1.legend()
ax1.grid(True)

# Accuracy 그래프
eval_accuracies = [log['eval_accuracy'] for log in eval_logs]
ax2.plot(epochs, eval_accuracies, 'g-', label='Validation Accuracy', marker='o')
ax2.set_xlabel('Epoch')
ax2.set_ylabel('Accuracy')
ax2.set_title('Accuracy per Epoch')
ax2.legend()
ax2.grid(True)

plt.tight_layout()
plt.show()

# 최종 결과 출력
print(f"최종 검증 정확도: {eval_accuracies[-1]:.4f}")
print(f"최종 검증 손실: {eval_losses[-1]:.4f}")
print(f"최고 검증 정확도: {max(eval_accuracies):.4f} (에포크 {epochs[eval_accuracies.index(max(eval_accuracies))]:.1f})")# 학습 실행
trainer.train()# 학습 메트릭 시각화
import matplotlib.pyplot as plt
import json
import pandas as pd

# 1. trainer.state에서 직접 메트릭 가져오기
log_history = trainer.state.log_history

# 2. 또는 저장된 trainer_state.json에서 로드하기
# with open(f"{training_args.output_dir}/trainer_state.json", "r") as f:
#     trainer_state = json.load(f)
#     log_history = trainer_state["log_history"]

# 메트릭 데이터 정리
train_logs = [log for log in log_history if "train_loss" in log]
eval_logs = [log for log in log_history if "eval_loss" in log]

print(f"학습 로그 수: {len(train_logs)}")
print(f"검증 로그 수: {len(eval_logs)}")

# 첫 번째 eval 로그 확인
if eval_logs:
    print(f"저장된 메트릭: {list(eval_logs[0].keys())}")
    print(f"예시 로그: {eval_logs[0]}")# 학습 실행 (메트릭 자동 저장됨)
trainer.train()

# 메트릭 저장 확인
print(f"체크포인트 저장 위치: {training_args.output_dir}")
print(f"로그 히스토리 길이: {len(trainer.state.log_history)}")